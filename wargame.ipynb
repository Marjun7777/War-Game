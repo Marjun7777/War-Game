{
 "cells": [
  {
   "cell_type": "code",
   "execution_count": 1,
   "id": "e38cb23a",
   "metadata": {},
   "outputs": [],
   "source": [
    "values = {'Two':2, 'Three':3, 'Four':4, 'Five':5, 'Six':6, 'Seven':7, 'Eight':8, \n",
    "            'Nine':9, 'Ten':10, 'Jack':11, 'Queen':12, 'King':13, 'Ace':14}\n",
    "suits = ('Hearts', 'Diamonds', 'Spades', 'Clubs')\n",
    "ranks = ('Two', 'Three', 'Four', 'Five', 'Six', 'Seven', 'Eight', 'Nine', 'Ten', 'Jack', 'Queen', 'King', 'Ace')"
   ]
  },
  {
   "cell_type": "code",
   "execution_count": 2,
   "id": "d41b5910",
   "metadata": {},
   "outputs": [],
   "source": [
    "import random\n",
    "class Card:\n",
    "    def __init__(self,suit,rank):\n",
    "        self.suit=suit\n",
    "        self.rank=rank\n",
    "        self.value=values[rank]\n",
    "    def __str__(self):\n",
    "        return self.suit +\" of \" +self.rank\n"
   ]
  },
  {
   "cell_type": "code",
   "execution_count": 3,
   "id": "8f000559",
   "metadata": {},
   "outputs": [],
   "source": [
    "class Deck:\n",
    "    def __init__(self):\n",
    "        self.all_cards=[]\n",
    "        for i in suits:\n",
    "            for j in ranks:\n",
    "                c=Card(i,j)\n",
    "                self.all_cards.append(c)\n",
    "    def shuffle(self):\n",
    "        random.shuffle(self.all_cards)\n",
    "    def deal_one(self):\n",
    "        return self.all_cards.pop()"
   ]
  },
  {
   "cell_type": "code",
   "execution_count": 4,
   "id": "c376c1d7",
   "metadata": {},
   "outputs": [],
   "source": [
    "class Player:\n",
    "    def __init__(self,name):\n",
    "        self.name=name\n",
    "        self.all_cards=[]\n",
    "    def add_cards(self,new_card):\n",
    "        if type(new_card)==type([]):\n",
    "            #for multiple card object\n",
    "            self.all_cards.extend(new_card)\n",
    "        else:\n",
    "            #for single card object\n",
    "            self.all_cards.append(new_card)\n",
    "    def remove_one(self):\n",
    "        return self.all_cards.pop(0)\n",
    "    def __str__(self):\n",
    "        return f\"{self.name} has {len(self.all_cards)} cards\" "
   ]
  },
  {
   "cell_type": "code",
   "execution_count": 5,
   "id": "2220ef4f",
   "metadata": {},
   "outputs": [],
   "source": [
    "player_one=Player(\"One\")\n",
    "player_two=Player(\"Two\")\n",
    "\n",
    "new_deck=Deck()\n",
    "new_deck.shuffle()\n",
    "\n",
    "for x in range(26):\n",
    "    player_one.add_cards(new_deck.deal_one())\n",
    "    player_two.add_cards(new_deck.deal_one())\n",
    "    \n"
   ]
  },
  {
   "cell_type": "code",
   "execution_count": 6,
   "id": "8beb5a97",
   "metadata": {},
   "outputs": [],
   "source": [
    "game_on=True"
   ]
  },
  {
   "cell_type": "code",
   "execution_count": 7,
   "id": "06e463ae",
   "metadata": {},
   "outputs": [
    {
     "name": "stdout",
     "output_type": "stream",
     "text": [
      "Round 1\n",
      "Round 2\n",
      "Round 3\n",
      "Round 4\n",
      "Round 5\n",
      "Round 6\n",
      "Round 7\n",
      "Round 8\n",
      "Round 9\n",
      "Round 10\n",
      "Round 11\n",
      "Round 12\n",
      "Round 13\n",
      "Round 14\n",
      "Round 15\n",
      "Round 16\n",
      "Round 17\n",
      "Round 18\n",
      "Round 19\n",
      "Round 20\n",
      "Round 21\n",
      "Round 22\n",
      "Round 23\n",
      "Round 24\n",
      "Round 25\n",
      "Round 26\n",
      "Round 27\n",
      "One has no cards left\n",
      "Two Wins!\n"
     ]
    }
   ],
   "source": [
    "round_num=0\n",
    "while game_on:\n",
    "    round_num+=1\n",
    "    print(f\"Round {round_num}\")\n",
    "    \n",
    "    if len(player_one.all_cards)==0:\n",
    "        print(f\"{player_one.name} has no cards left\")\n",
    "        print(f\"{player_two.name} Wins!\")\n",
    "        game_on=False\n",
    "        break\n",
    "    if len(player_two.all_cards)==0:\n",
    "        print(f\"{player_two.name} has no cards left\")\n",
    "        print(f\"{player_one.name} Wins!\")\n",
    "        game_on=False\n",
    "        break\n",
    "        #start a new round\n",
    "    player_one_cards=[]\n",
    "    player_two_cards=[]\n",
    "    player_one_cards.append(player_one.remove_one())\n",
    "    player_two_cards.append(player_two.remove_one())\n",
    "    \n",
    "    "
   ]
  },
  {
   "cell_type": "code",
   "execution_count": null,
   "id": "622a778f",
   "metadata": {},
   "outputs": [],
   "source": []
  }
 ],
 "metadata": {
  "kernelspec": {
   "display_name": "Python 3 (ipykernel)",
   "language": "python",
   "name": "python3"
  },
  "language_info": {
   "codemirror_mode": {
    "name": "ipython",
    "version": 3
   },
   "file_extension": ".py",
   "mimetype": "text/x-python",
   "name": "python",
   "nbconvert_exporter": "python",
   "pygments_lexer": "ipython3",
   "version": "3.9.12"
  }
 },
 "nbformat": 4,
 "nbformat_minor": 5
}
